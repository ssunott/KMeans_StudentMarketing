{
  "metadata": {
    "kernelspec": {
      "name": "python3",
      "display_name": "Python 3",
      "language": "python"
    },
    "language_info": {
      "name": "python",
      "version": "3.10.13",
      "mimetype": "text/x-python",
      "codemirror_mode": {
        "name": "ipython",
        "version": 3
      },
      "pygments_lexer": "ipython3",
      "nbconvert_exporter": "python",
      "file_extension": ".py"
    },
    "papermill": {
      "duration": 36.128369,
      "end_time": "2020-12-29T14:09:32.844718",
      "environment_variables": {},
      "exception": null,
      "input_path": "__notebook__.ipynb",
      "output_path": "__notebook__.ipynb",
      "parameters": {},
      "start_time": "2020-12-29T14:08:56.716349",
      "version": "2.1.0"
    },
    "kaggle": {
      "accelerator": "none",
      "dataSources": [
        {
          "sourceId": 7727037,
          "sourceType": "datasetVersion",
          "datasetId": 4514514
        }
      ],
      "dockerImageVersionId": 30664,
      "isInternetEnabled": true,
      "language": "python",
      "sourceType": "notebook",
      "isGpuEnabled": false
    },
    "colab": {
      "name": "👨‍🎓Clustering Analysis of Students",
      "provenance": []
    }
  },
  "nbformat_minor": 0,
  "nbformat": 4,
  "cells": [
    {
      "source": [
        "# IMPORTANT: RUN THIS CELL IN ORDER TO IMPORT YOUR KAGGLE DATA SOURCES,\n",
        "# THEN FEEL FREE TO DELETE THIS CELL.\n",
        "# NOTE: THIS NOTEBOOK ENVIRONMENT DIFFERS FROM KAGGLE'S PYTHON\n",
        "# ENVIRONMENT SO THERE MAY BE MISSING LIBRARIES USED BY YOUR\n",
        "# NOTEBOOK.\n",
        "import kagglehub\n",
        "zabihullah18_students_social_network_profile_clustering_path = kagglehub.dataset_download('zabihullah18/students-social-network-profile-clustering')\n",
        "\n",
        "print('Data source import complete.')\n"
      ],
      "metadata": {
        "id": "Rzh1_DkBhCZO",
        "outputId": "dbd34198-22bc-41ad-d315-6f410a42b15f",
        "colab": {
          "base_uri": "https://localhost:8080/"
        }
      },
      "cell_type": "code",
      "outputs": [
        {
          "output_type": "stream",
          "name": "stdout",
          "text": [
            "Downloading from https://www.kaggle.com/api/v1/datasets/download/zabihullah18/students-social-network-profile-clustering?dataset_version_number=1...\n"
          ]
        },
        {
          "output_type": "stream",
          "name": "stderr",
          "text": [
            "100%|██████████| 187k/187k [00:00<00:00, 5.89MB/s]"
          ]
        },
        {
          "output_type": "stream",
          "name": "stdout",
          "text": [
            "Extracting files...\n",
            "Data source import complete.\n"
          ]
        },
        {
          "output_type": "stream",
          "name": "stderr",
          "text": [
            "\n"
          ]
        }
      ],
      "execution_count": 1
    },
    {
      "cell_type": "markdown",
      "source": [
        "<center><a href=\"https://www.buymeacoffee.com/zabih\"><img src=\"https://www.codehim.com/wp-content/uploads/2022/09/bmc-button-640x180.png.webp\" alt=\"Buy Me A Coffee\" style=\"height: 80px; width: 300px; box-shadow: 0px 3px 2px 0px rgba(190, 190, 190, 0.5) !important;-webkit-box-shadow: 0px 3px 2px 0px rgba(190, 190, 190, 0.5) !important;\" ></a></center>"
      ],
      "metadata": {
        "id": "K7gdNDjdhCZP"
      }
    },
    {
      "cell_type": "markdown",
      "source": [
        "# 📌Loading Required Packages"
      ],
      "metadata": {
        "papermill": {
          "duration": 0.039607,
          "end_time": "2020-12-29T14:09:01.639823",
          "exception": false,
          "start_time": "2020-12-29T14:09:01.600216",
          "status": "completed"
        },
        "tags": [],
        "id": "8x9yUvf9hCZP"
      }
    },
    {
      "cell_type": "code",
      "source": [
        "#Important packages\n",
        "\n",
        "import pandas as pd\n",
        "import numpy as np\n",
        "\n",
        "import matplotlib.pyplot as plt\n",
        "import seaborn as sns\n",
        "%matplotlib inline\n",
        "\n",
        "import warnings\n",
        "warnings.filterwarnings(\"ignore\")"
      ],
      "metadata": {
        "papermill": {
          "duration": 1.016253,
          "end_time": "2020-12-29T14:09:02.686855",
          "exception": false,
          "start_time": "2020-12-29T14:09:01.670602",
          "status": "completed"
        },
        "tags": [],
        "execution": {
          "iopub.status.busy": "2024-03-04T13:57:45.755159Z",
          "iopub.execute_input": "2024-03-04T13:57:45.755709Z",
          "iopub.status.idle": "2024-03-04T13:57:48.897641Z",
          "shell.execute_reply.started": "2024-03-04T13:57:45.755651Z",
          "shell.execute_reply": "2024-03-04T13:57:48.896355Z"
        },
        "trusted": true,
        "id": "HDZRLBpghCZP"
      },
      "execution_count": 2,
      "outputs": []
    },
    {
      "cell_type": "markdown",
      "source": [
        "# 📌Check Out the Data"
      ],
      "metadata": {
        "papermill": {
          "duration": 0.039633,
          "end_time": "2020-12-29T14:09:02.766937",
          "exception": false,
          "start_time": "2020-12-29T14:09:02.727304",
          "status": "completed"
        },
        "tags": [],
        "id": "jbJqrDrzhCZQ"
      }
    },
    {
      "cell_type": "code",
      "source": [
        "#Load Dataset\n",
        "pd.set_option('display.max_columns', None)\n",
        "data = pd.read_csv(\"/kaggle/input/students-social-network-profile-clustering/03_Clustering_Marketing.csv\")"
      ],
      "metadata": {
        "papermill": {
          "duration": 0.174414,
          "end_time": "2020-12-29T14:09:02.981618",
          "exception": false,
          "start_time": "2020-12-29T14:09:02.807204",
          "status": "completed"
        },
        "tags": [],
        "execution": {
          "iopub.status.busy": "2024-03-04T13:57:48.900015Z",
          "iopub.execute_input": "2024-03-04T13:57:48.900639Z",
          "iopub.status.idle": "2024-03-04T13:57:49.037679Z",
          "shell.execute_reply.started": "2024-03-04T13:57:48.900597Z",
          "shell.execute_reply": "2024-03-04T13:57:49.035529Z"
        },
        "trusted": true,
        "id": "19NL4rnShCZQ",
        "outputId": "7477bc0f-bfdd-40df-991e-fe891088aac1",
        "colab": {
          "base_uri": "https://localhost:8080/",
          "height": 321
        }
      },
      "execution_count": 3,
      "outputs": [
        {
          "output_type": "error",
          "ename": "FileNotFoundError",
          "evalue": "[Errno 2] No such file or directory: '/kaggle/input/students-social-network-profile-clustering/03_Clustering_Marketing.csv'",
          "traceback": [
            "\u001b[0;31m---------------------------------------------------------------------------\u001b[0m",
            "\u001b[0;31mFileNotFoundError\u001b[0m                         Traceback (most recent call last)",
            "\u001b[0;32m/tmp/ipython-input-3-2358686880.py\u001b[0m in \u001b[0;36m<cell line: 0>\u001b[0;34m()\u001b[0m\n\u001b[1;32m      1\u001b[0m \u001b[0;31m#Load Dataset\u001b[0m\u001b[0;34m\u001b[0m\u001b[0;34m\u001b[0m\u001b[0m\n\u001b[1;32m      2\u001b[0m \u001b[0mpd\u001b[0m\u001b[0;34m.\u001b[0m\u001b[0mset_option\u001b[0m\u001b[0;34m(\u001b[0m\u001b[0;34m'display.max_columns'\u001b[0m\u001b[0;34m,\u001b[0m \u001b[0;32mNone\u001b[0m\u001b[0;34m)\u001b[0m\u001b[0;34m\u001b[0m\u001b[0;34m\u001b[0m\u001b[0m\n\u001b[0;32m----> 3\u001b[0;31m \u001b[0mdata\u001b[0m \u001b[0;34m=\u001b[0m \u001b[0mpd\u001b[0m\u001b[0;34m.\u001b[0m\u001b[0mread_csv\u001b[0m\u001b[0;34m(\u001b[0m\u001b[0;34m\"/kaggle/input/students-social-network-profile-clustering/03_Clustering_Marketing.csv\"\u001b[0m\u001b[0;34m)\u001b[0m\u001b[0;34m\u001b[0m\u001b[0;34m\u001b[0m\u001b[0m\n\u001b[0m",
            "\u001b[0;32m/usr/local/lib/python3.11/dist-packages/pandas/io/parsers/readers.py\u001b[0m in \u001b[0;36mread_csv\u001b[0;34m(filepath_or_buffer, sep, delimiter, header, names, index_col, usecols, dtype, engine, converters, true_values, false_values, skipinitialspace, skiprows, skipfooter, nrows, na_values, keep_default_na, na_filter, verbose, skip_blank_lines, parse_dates, infer_datetime_format, keep_date_col, date_parser, date_format, dayfirst, cache_dates, iterator, chunksize, compression, thousands, decimal, lineterminator, quotechar, quoting, doublequote, escapechar, comment, encoding, encoding_errors, dialect, on_bad_lines, delim_whitespace, low_memory, memory_map, float_precision, storage_options, dtype_backend)\u001b[0m\n\u001b[1;32m   1024\u001b[0m     \u001b[0mkwds\u001b[0m\u001b[0;34m.\u001b[0m\u001b[0mupdate\u001b[0m\u001b[0;34m(\u001b[0m\u001b[0mkwds_defaults\u001b[0m\u001b[0;34m)\u001b[0m\u001b[0;34m\u001b[0m\u001b[0;34m\u001b[0m\u001b[0m\n\u001b[1;32m   1025\u001b[0m \u001b[0;34m\u001b[0m\u001b[0m\n\u001b[0;32m-> 1026\u001b[0;31m     \u001b[0;32mreturn\u001b[0m \u001b[0m_read\u001b[0m\u001b[0;34m(\u001b[0m\u001b[0mfilepath_or_buffer\u001b[0m\u001b[0;34m,\u001b[0m \u001b[0mkwds\u001b[0m\u001b[0;34m)\u001b[0m\u001b[0;34m\u001b[0m\u001b[0;34m\u001b[0m\u001b[0m\n\u001b[0m\u001b[1;32m   1027\u001b[0m \u001b[0;34m\u001b[0m\u001b[0m\n\u001b[1;32m   1028\u001b[0m \u001b[0;34m\u001b[0m\u001b[0m\n",
            "\u001b[0;32m/usr/local/lib/python3.11/dist-packages/pandas/io/parsers/readers.py\u001b[0m in \u001b[0;36m_read\u001b[0;34m(filepath_or_buffer, kwds)\u001b[0m\n\u001b[1;32m    618\u001b[0m \u001b[0;34m\u001b[0m\u001b[0m\n\u001b[1;32m    619\u001b[0m     \u001b[0;31m# Create the parser.\u001b[0m\u001b[0;34m\u001b[0m\u001b[0;34m\u001b[0m\u001b[0m\n\u001b[0;32m--> 620\u001b[0;31m     \u001b[0mparser\u001b[0m \u001b[0;34m=\u001b[0m \u001b[0mTextFileReader\u001b[0m\u001b[0;34m(\u001b[0m\u001b[0mfilepath_or_buffer\u001b[0m\u001b[0;34m,\u001b[0m \u001b[0;34m**\u001b[0m\u001b[0mkwds\u001b[0m\u001b[0;34m)\u001b[0m\u001b[0;34m\u001b[0m\u001b[0;34m\u001b[0m\u001b[0m\n\u001b[0m\u001b[1;32m    621\u001b[0m \u001b[0;34m\u001b[0m\u001b[0m\n\u001b[1;32m    622\u001b[0m     \u001b[0;32mif\u001b[0m \u001b[0mchunksize\u001b[0m \u001b[0;32mor\u001b[0m \u001b[0miterator\u001b[0m\u001b[0;34m:\u001b[0m\u001b[0;34m\u001b[0m\u001b[0;34m\u001b[0m\u001b[0m\n",
            "\u001b[0;32m/usr/local/lib/python3.11/dist-packages/pandas/io/parsers/readers.py\u001b[0m in \u001b[0;36m__init__\u001b[0;34m(self, f, engine, **kwds)\u001b[0m\n\u001b[1;32m   1618\u001b[0m \u001b[0;34m\u001b[0m\u001b[0m\n\u001b[1;32m   1619\u001b[0m         \u001b[0mself\u001b[0m\u001b[0;34m.\u001b[0m\u001b[0mhandles\u001b[0m\u001b[0;34m:\u001b[0m \u001b[0mIOHandles\u001b[0m \u001b[0;34m|\u001b[0m \u001b[0;32mNone\u001b[0m \u001b[0;34m=\u001b[0m \u001b[0;32mNone\u001b[0m\u001b[0;34m\u001b[0m\u001b[0;34m\u001b[0m\u001b[0m\n\u001b[0;32m-> 1620\u001b[0;31m         \u001b[0mself\u001b[0m\u001b[0;34m.\u001b[0m\u001b[0m_engine\u001b[0m \u001b[0;34m=\u001b[0m \u001b[0mself\u001b[0m\u001b[0;34m.\u001b[0m\u001b[0m_make_engine\u001b[0m\u001b[0;34m(\u001b[0m\u001b[0mf\u001b[0m\u001b[0;34m,\u001b[0m \u001b[0mself\u001b[0m\u001b[0;34m.\u001b[0m\u001b[0mengine\u001b[0m\u001b[0;34m)\u001b[0m\u001b[0;34m\u001b[0m\u001b[0;34m\u001b[0m\u001b[0m\n\u001b[0m\u001b[1;32m   1621\u001b[0m \u001b[0;34m\u001b[0m\u001b[0m\n\u001b[1;32m   1622\u001b[0m     \u001b[0;32mdef\u001b[0m \u001b[0mclose\u001b[0m\u001b[0;34m(\u001b[0m\u001b[0mself\u001b[0m\u001b[0;34m)\u001b[0m \u001b[0;34m->\u001b[0m \u001b[0;32mNone\u001b[0m\u001b[0;34m:\u001b[0m\u001b[0;34m\u001b[0m\u001b[0;34m\u001b[0m\u001b[0m\n",
            "\u001b[0;32m/usr/local/lib/python3.11/dist-packages/pandas/io/parsers/readers.py\u001b[0m in \u001b[0;36m_make_engine\u001b[0;34m(self, f, engine)\u001b[0m\n\u001b[1;32m   1878\u001b[0m                 \u001b[0;32mif\u001b[0m \u001b[0;34m\"b\"\u001b[0m \u001b[0;32mnot\u001b[0m \u001b[0;32min\u001b[0m \u001b[0mmode\u001b[0m\u001b[0;34m:\u001b[0m\u001b[0;34m\u001b[0m\u001b[0;34m\u001b[0m\u001b[0m\n\u001b[1;32m   1879\u001b[0m                     \u001b[0mmode\u001b[0m \u001b[0;34m+=\u001b[0m \u001b[0;34m\"b\"\u001b[0m\u001b[0;34m\u001b[0m\u001b[0;34m\u001b[0m\u001b[0m\n\u001b[0;32m-> 1880\u001b[0;31m             self.handles = get_handle(\n\u001b[0m\u001b[1;32m   1881\u001b[0m                 \u001b[0mf\u001b[0m\u001b[0;34m,\u001b[0m\u001b[0;34m\u001b[0m\u001b[0;34m\u001b[0m\u001b[0m\n\u001b[1;32m   1882\u001b[0m                 \u001b[0mmode\u001b[0m\u001b[0;34m,\u001b[0m\u001b[0;34m\u001b[0m\u001b[0;34m\u001b[0m\u001b[0m\n",
            "\u001b[0;32m/usr/local/lib/python3.11/dist-packages/pandas/io/common.py\u001b[0m in \u001b[0;36mget_handle\u001b[0;34m(path_or_buf, mode, encoding, compression, memory_map, is_text, errors, storage_options)\u001b[0m\n\u001b[1;32m    871\u001b[0m         \u001b[0;32mif\u001b[0m \u001b[0mioargs\u001b[0m\u001b[0;34m.\u001b[0m\u001b[0mencoding\u001b[0m \u001b[0;32mand\u001b[0m \u001b[0;34m\"b\"\u001b[0m \u001b[0;32mnot\u001b[0m \u001b[0;32min\u001b[0m \u001b[0mioargs\u001b[0m\u001b[0;34m.\u001b[0m\u001b[0mmode\u001b[0m\u001b[0;34m:\u001b[0m\u001b[0;34m\u001b[0m\u001b[0;34m\u001b[0m\u001b[0m\n\u001b[1;32m    872\u001b[0m             \u001b[0;31m# Encoding\u001b[0m\u001b[0;34m\u001b[0m\u001b[0;34m\u001b[0m\u001b[0m\n\u001b[0;32m--> 873\u001b[0;31m             handle = open(\n\u001b[0m\u001b[1;32m    874\u001b[0m                 \u001b[0mhandle\u001b[0m\u001b[0;34m,\u001b[0m\u001b[0;34m\u001b[0m\u001b[0;34m\u001b[0m\u001b[0m\n\u001b[1;32m    875\u001b[0m                 \u001b[0mioargs\u001b[0m\u001b[0;34m.\u001b[0m\u001b[0mmode\u001b[0m\u001b[0;34m,\u001b[0m\u001b[0;34m\u001b[0m\u001b[0;34m\u001b[0m\u001b[0m\n",
            "\u001b[0;31mFileNotFoundError\u001b[0m: [Errno 2] No such file or directory: '/kaggle/input/students-social-network-profile-clustering/03_Clustering_Marketing.csv'"
          ]
        }
      ]
    },
    {
      "cell_type": "code",
      "source": [
        "#Running head command to see first 6 observations\n",
        "data.head()"
      ],
      "metadata": {
        "papermill": {
          "duration": 0.084786,
          "end_time": "2020-12-29T14:09:03.107751",
          "exception": false,
          "start_time": "2020-12-29T14:09:03.022965",
          "status": "completed"
        },
        "tags": [],
        "execution": {
          "iopub.status.busy": "2024-03-04T13:57:49.039859Z",
          "iopub.execute_input": "2024-03-04T13:57:49.040754Z",
          "iopub.status.idle": "2024-03-04T13:57:49.087733Z",
          "shell.execute_reply.started": "2024-03-04T13:57:49.040709Z",
          "shell.execute_reply": "2024-03-04T13:57:49.086283Z"
        },
        "trusted": true,
        "id": "wjoWIS9KhCZQ"
      },
      "execution_count": null,
      "outputs": []
    },
    {
      "cell_type": "markdown",
      "source": [
        "# 📌Summary Statistics of Numerical Variables"
      ],
      "metadata": {
        "papermill": {
          "duration": 0.041917,
          "end_time": "2020-12-29T14:09:03.188416",
          "exception": false,
          "start_time": "2020-12-29T14:09:03.146499",
          "status": "completed"
        },
        "tags": [],
        "id": "4HgTLmShhCZQ"
      }
    },
    {
      "cell_type": "code",
      "source": [
        "data.describe()"
      ],
      "metadata": {
        "papermill": {
          "duration": 0.195408,
          "end_time": "2020-12-29T14:09:03.427189",
          "exception": false,
          "start_time": "2020-12-29T14:09:03.231781",
          "status": "completed"
        },
        "tags": [],
        "execution": {
          "iopub.status.busy": "2024-03-04T13:57:49.091726Z",
          "iopub.execute_input": "2024-03-04T13:57:49.092657Z",
          "iopub.status.idle": "2024-03-04T13:57:49.295693Z",
          "shell.execute_reply.started": "2024-03-04T13:57:49.09261Z",
          "shell.execute_reply": "2024-03-04T13:57:49.294419Z"
        },
        "trusted": true,
        "id": "OcJg_FOlhCZQ"
      },
      "execution_count": null,
      "outputs": []
    },
    {
      "cell_type": "markdown",
      "source": [
        "# 📌Treating Missing Values"
      ],
      "metadata": {
        "papermill": {
          "duration": 0.042714,
          "end_time": "2020-12-29T14:09:03.727249",
          "exception": false,
          "start_time": "2020-12-29T14:09:03.684535",
          "status": "completed"
        },
        "tags": [],
        "id": "Cz89QCl1hCZR"
      }
    },
    {
      "cell_type": "code",
      "source": [
        "data.isnull().sum()"
      ],
      "metadata": {
        "papermill": {
          "duration": 0.061359,
          "end_time": "2020-12-29T14:09:03.837205",
          "exception": false,
          "start_time": "2020-12-29T14:09:03.775846",
          "status": "completed"
        },
        "tags": [],
        "execution": {
          "iopub.status.busy": "2024-03-04T13:57:49.2977Z",
          "iopub.execute_input": "2024-03-04T13:57:49.299159Z",
          "iopub.status.idle": "2024-03-04T13:57:49.315473Z",
          "shell.execute_reply.started": "2024-03-04T13:57:49.299124Z",
          "shell.execute_reply": "2024-03-04T13:57:49.31386Z"
        },
        "trusted": true,
        "id": "rXY1eBfDhCZR"
      },
      "execution_count": null,
      "outputs": []
    },
    {
      "cell_type": "markdown",
      "source": [
        "**A total of 2496 records have missing ages. Also concerning is the fact that the minimum and maximum values seem to be unreasonable; it is unlikely that a 3 year old or a 106 year old is attending high school.**"
      ],
      "metadata": {
        "papermill": {
          "duration": 0.043866,
          "end_time": "2020-12-29T14:09:03.92603",
          "exception": false,
          "start_time": "2020-12-29T14:09:03.882164",
          "status": "completed"
        },
        "tags": [],
        "id": "BI5d9DfDhCZR"
      }
    },
    {
      "cell_type": "markdown",
      "source": [
        "# 📌Let's have a look at the number of male, female and missing values"
      ],
      "metadata": {
        "papermill": {
          "duration": 0.043876,
          "end_time": "2020-12-29T14:09:04.207007",
          "exception": false,
          "start_time": "2020-12-29T14:09:04.163131",
          "status": "completed"
        },
        "tags": [],
        "id": "HQSynmPwhCZR"
      }
    },
    {
      "cell_type": "code",
      "source": [
        "data['gender'].value_counts(dropna = False) #display NaN values also"
      ],
      "metadata": {
        "papermill": {
          "duration": 0.061496,
          "end_time": "2020-12-29T14:09:04.313005",
          "exception": false,
          "start_time": "2020-12-29T14:09:04.251509",
          "status": "completed"
        },
        "tags": [],
        "execution": {
          "iopub.status.busy": "2024-03-04T13:57:49.317166Z",
          "iopub.execute_input": "2024-03-04T13:57:49.317599Z",
          "iopub.status.idle": "2024-03-04T13:57:49.333207Z",
          "shell.execute_reply.started": "2024-03-04T13:57:49.317538Z",
          "shell.execute_reply": "2024-03-04T13:57:49.331466Z"
        },
        "trusted": true,
        "id": "95Kh4mlchCZR"
      },
      "execution_count": null,
      "outputs": []
    },
    {
      "cell_type": "markdown",
      "source": [
        "**There are 11057 female, 2606 male teen students and 1337 missing values**"
      ],
      "metadata": {
        "papermill": {
          "duration": 0.066999,
          "end_time": "2020-12-29T14:09:04.445835",
          "exception": false,
          "start_time": "2020-12-29T14:09:04.378836",
          "status": "completed"
        },
        "tags": [],
        "id": "_EsaYsWJhCZR"
      }
    },
    {
      "cell_type": "markdown",
      "source": [
        "# 📌Now fill all the null values in gender column with “Not disclosed”"
      ],
      "metadata": {
        "papermill": {
          "duration": 0.066759,
          "end_time": "2020-12-29T14:09:04.580052",
          "exception": false,
          "start_time": "2020-12-29T14:09:04.513293",
          "status": "completed"
        },
        "tags": [],
        "id": "MhE9wUvjhCZR"
      }
    },
    {
      "cell_type": "code",
      "source": [
        "data['gender'].fillna('not disclosed', inplace = True)\n"
      ],
      "metadata": {
        "papermill": {
          "duration": 0.078236,
          "end_time": "2020-12-29T14:09:04.724926",
          "exception": false,
          "start_time": "2020-12-29T14:09:04.64669",
          "status": "completed"
        },
        "tags": [],
        "execution": {
          "iopub.status.busy": "2024-03-04T13:57:49.337526Z",
          "iopub.execute_input": "2024-03-04T13:57:49.338011Z",
          "iopub.status.idle": "2024-03-04T13:57:49.347697Z",
          "shell.execute_reply.started": "2024-03-04T13:57:49.337969Z",
          "shell.execute_reply": "2024-03-04T13:57:49.346579Z"
        },
        "trusted": true,
        "id": "TGg7KbbmhCZR"
      },
      "execution_count": null,
      "outputs": []
    },
    {
      "cell_type": "code",
      "source": [
        "data['gender'].isnull().sum()"
      ],
      "metadata": {
        "papermill": {
          "duration": 0.080204,
          "end_time": "2020-12-29T14:09:04.870876",
          "exception": false,
          "start_time": "2020-12-29T14:09:04.790672",
          "status": "completed"
        },
        "tags": [],
        "execution": {
          "iopub.status.busy": "2024-03-04T13:57:49.349427Z",
          "iopub.execute_input": "2024-03-04T13:57:49.350938Z",
          "iopub.status.idle": "2024-03-04T13:57:49.368197Z",
          "shell.execute_reply.started": "2024-03-04T13:57:49.350891Z",
          "shell.execute_reply": "2024-03-04T13:57:49.3669Z"
        },
        "trusted": true,
        "id": "2SE8rAzuhCZR"
      },
      "execution_count": null,
      "outputs": []
    },
    {
      "cell_type": "code",
      "source": [
        "data['gender'].unique()"
      ],
      "metadata": {
        "execution": {
          "iopub.status.busy": "2024-03-04T13:57:49.370136Z",
          "iopub.execute_input": "2024-03-04T13:57:49.37053Z",
          "iopub.status.idle": "2024-03-04T13:57:49.382512Z",
          "shell.execute_reply.started": "2024-03-04T13:57:49.370498Z",
          "shell.execute_reply": "2024-03-04T13:57:49.381063Z"
        },
        "trusted": true,
        "id": "SXpzliyfhCZR"
      },
      "execution_count": null,
      "outputs": []
    },
    {
      "cell_type": "markdown",
      "source": [
        "# 📌One way to deal with these missing values would be to fill the missing values with the average age of each graduation year"
      ],
      "metadata": {
        "papermill": {
          "duration": 0.045244,
          "end_time": "2020-12-29T14:09:04.96208",
          "exception": false,
          "start_time": "2020-12-29T14:09:04.916836",
          "status": "completed"
        },
        "tags": [],
        "id": "CamrAw7hhCZS"
      }
    },
    {
      "cell_type": "code",
      "source": [
        "data['age'] = pd.to_numeric(data['age'], errors='coerce')"
      ],
      "metadata": {
        "execution": {
          "iopub.status.busy": "2024-03-04T13:57:49.388876Z",
          "iopub.execute_input": "2024-03-04T13:57:49.38928Z",
          "iopub.status.idle": "2024-03-04T13:57:49.41287Z",
          "shell.execute_reply.started": "2024-03-04T13:57:49.389235Z",
          "shell.execute_reply": "2024-03-04T13:57:49.410766Z"
        },
        "trusted": true,
        "id": "uAxR4z-chCZS"
      },
      "execution_count": null,
      "outputs": []
    },
    {
      "cell_type": "code",
      "source": [
        "data.groupby('gradyear')['age'].mean()"
      ],
      "metadata": {
        "papermill": {
          "duration": 0.063187,
          "end_time": "2020-12-29T14:09:05.070913",
          "exception": false,
          "start_time": "2020-12-29T14:09:05.007726",
          "status": "completed"
        },
        "tags": [],
        "execution": {
          "iopub.status.busy": "2024-03-04T13:57:49.414838Z",
          "iopub.execute_input": "2024-03-04T13:57:49.415275Z",
          "iopub.status.idle": "2024-03-04T13:57:49.434797Z",
          "shell.execute_reply.started": "2024-03-04T13:57:49.415235Z",
          "shell.execute_reply": "2024-03-04T13:57:49.433521Z"
        },
        "trusted": true,
        "id": "pqo6vO9jhCZS"
      },
      "execution_count": null,
      "outputs": []
    },
    {
      "cell_type": "markdown",
      "source": [
        "# 📌Now fill the missing values for each graduation year with the mean that we got as above"
      ],
      "metadata": {
        "papermill": {
          "duration": 0.032403,
          "end_time": "2020-12-29T14:09:05.222584",
          "exception": false,
          "start_time": "2020-12-29T14:09:05.190181",
          "status": "completed"
        },
        "tags": [],
        "id": "GrxbU6A4hCZS"
      }
    },
    {
      "cell_type": "code",
      "source": [
        "data['age'] = data.groupby('gradyear')['age'].transform(lambda x: x.fillna(x.mean()))"
      ],
      "metadata": {
        "papermill": {
          "duration": 0.35014,
          "end_time": "2020-12-29T14:09:05.604825",
          "exception": false,
          "start_time": "2020-12-29T14:09:05.254685",
          "status": "completed"
        },
        "tags": [],
        "execution": {
          "iopub.status.busy": "2024-03-04T13:57:49.436697Z",
          "iopub.execute_input": "2024-03-04T13:57:49.437616Z",
          "iopub.status.idle": "2024-03-04T13:57:49.458717Z",
          "shell.execute_reply.started": "2024-03-04T13:57:49.437546Z",
          "shell.execute_reply": "2024-03-04T13:57:49.455906Z"
        },
        "trusted": true,
        "id": "5XuXrovjhCZS"
      },
      "execution_count": null,
      "outputs": []
    },
    {
      "cell_type": "code",
      "source": [
        "data['age'].isnull().sum()"
      ],
      "metadata": {
        "papermill": {
          "duration": 0.056723,
          "end_time": "2020-12-29T14:09:05.707334",
          "exception": false,
          "start_time": "2020-12-29T14:09:05.650611",
          "status": "completed"
        },
        "tags": [],
        "execution": {
          "iopub.status.busy": "2024-03-04T13:57:49.460819Z",
          "iopub.execute_input": "2024-03-04T13:57:49.461299Z",
          "iopub.status.idle": "2024-03-04T13:57:49.471218Z",
          "shell.execute_reply.started": "2024-03-04T13:57:49.461255Z",
          "shell.execute_reply": "2024-03-04T13:57:49.469864Z"
        },
        "trusted": true,
        "id": "KbQV4asShCZS"
      },
      "execution_count": null,
      "outputs": []
    },
    {
      "cell_type": "markdown",
      "source": [
        "**From the above summary we can see that there are no missing values in the dataset**"
      ],
      "metadata": {
        "papermill": {
          "duration": 0.046621,
          "end_time": "2020-12-29T14:09:05.948659",
          "exception": false,
          "start_time": "2020-12-29T14:09:05.902038",
          "status": "completed"
        },
        "tags": [],
        "id": "s8j5duCNhCZS"
      }
    },
    {
      "cell_type": "markdown",
      "source": [
        "# 📌Treating Outliers"
      ],
      "metadata": {
        "papermill": {
          "duration": 0.047243,
          "end_time": "2020-12-29T14:09:06.042595",
          "exception": false,
          "start_time": "2020-12-29T14:09:05.995352",
          "status": "completed"
        },
        "tags": [],
        "id": "sPqIgglghCZS"
      }
    },
    {
      "cell_type": "markdown",
      "source": [
        "**The original age range contains value from 3 - 106, which is unrealistic because student at age of 3 or 106 would not attend high school. A reasonable age range for people attending high school will be the age range between 13 to 21. The rest should be treated as outliers keeping the age of student going to high school in mind.\n",
        "\n",
        "**Let's detect the outliers using a box plot below**"
      ],
      "metadata": {
        "papermill": {
          "duration": 0.047217,
          "end_time": "2020-12-29T14:09:06.137653",
          "exception": false,
          "start_time": "2020-12-29T14:09:06.090436",
          "status": "completed"
        },
        "tags": [],
        "id": "w8YzPL8FhCZS"
      }
    },
    {
      "cell_type": "code",
      "source": [
        "sns.set(style=\"whitegrid\")\n",
        "\n",
        "plt.figure(figsize=(10, 6))\n",
        "\n",
        "sns.boxplot(x=data['age'], color='red')\n",
        "\n",
        "plt.xlabel('Age', fontsize=14)\n",
        "plt.title('Boxplot of Age', fontsize=16)\n",
        "\n",
        "# Show the plot\n",
        "plt.show()\n"
      ],
      "metadata": {
        "execution": {
          "iopub.status.busy": "2024-03-04T14:02:07.725319Z",
          "iopub.execute_input": "2024-03-04T14:02:07.725805Z",
          "iopub.status.idle": "2024-03-04T14:02:07.983859Z",
          "shell.execute_reply.started": "2024-03-04T14:02:07.725768Z",
          "shell.execute_reply": "2024-03-04T14:02:07.982486Z"
        },
        "trusted": true,
        "id": "JLFQrJvNhCZS"
      },
      "execution_count": null,
      "outputs": []
    },
    {
      "cell_type": "code",
      "source": [
        "q1 = data['age'].quantile(0.25)\n",
        "q3 = data['age'].quantile(0.75)\n",
        "iqr = q3-q1\n",
        "print(iqr)"
      ],
      "metadata": {
        "papermill": {
          "duration": 0.061331,
          "end_time": "2020-12-29T14:09:06.525493",
          "exception": false,
          "start_time": "2020-12-29T14:09:06.464162",
          "status": "completed"
        },
        "tags": [],
        "execution": {
          "iopub.status.busy": "2024-03-04T13:57:50.847619Z",
          "iopub.execute_input": "2024-03-04T13:57:50.848355Z",
          "iopub.status.idle": "2024-03-04T13:57:50.859592Z",
          "shell.execute_reply.started": "2024-03-04T13:57:50.848302Z",
          "shell.execute_reply": "2024-03-04T13:57:50.858596Z"
        },
        "trusted": true,
        "id": "JS662crxhCZS"
      },
      "execution_count": null,
      "outputs": []
    },
    {
      "cell_type": "code",
      "source": [
        "df = data[(data['age'] > (q1 - 1.5*iqr)) & (data['age'] < (q3 + 1.5*iqr))]"
      ],
      "metadata": {
        "papermill": {
          "duration": 0.066659,
          "end_time": "2020-12-29T14:09:06.751272",
          "exception": false,
          "start_time": "2020-12-29T14:09:06.684613",
          "status": "completed"
        },
        "tags": [],
        "execution": {
          "iopub.status.busy": "2024-03-04T13:57:50.861058Z",
          "iopub.execute_input": "2024-03-04T13:57:50.861442Z",
          "iopub.status.idle": "2024-03-04T13:57:50.871592Z",
          "shell.execute_reply.started": "2024-03-04T13:57:50.86141Z",
          "shell.execute_reply": "2024-03-04T13:57:50.870472Z"
        },
        "trusted": true,
        "id": "SpR3VfCnhCZS"
      },
      "execution_count": null,
      "outputs": []
    },
    {
      "cell_type": "code",
      "source": [
        "df['age'].describe()"
      ],
      "metadata": {
        "papermill": {
          "duration": 0.068753,
          "end_time": "2020-12-29T14:09:06.879185",
          "exception": false,
          "start_time": "2020-12-29T14:09:06.810432",
          "status": "completed"
        },
        "tags": [],
        "execution": {
          "iopub.status.busy": "2024-03-04T13:57:50.873484Z",
          "iopub.execute_input": "2024-03-04T13:57:50.874022Z",
          "iopub.status.idle": "2024-03-04T13:57:50.888653Z",
          "shell.execute_reply.started": "2024-03-04T13:57:50.87399Z",
          "shell.execute_reply": "2024-03-04T13:57:50.887547Z"
        },
        "trusted": true,
        "id": "ajbPO1MzhCZS"
      },
      "execution_count": null,
      "outputs": []
    },
    {
      "cell_type": "markdown",
      "source": [
        "**From the above summary we can observe that after treating the outliers the mininmum age is 13.843000 and the maximum age is 21.065000**"
      ],
      "metadata": {
        "papermill": {
          "duration": 0.04825,
          "end_time": "2020-12-29T14:09:06.976816",
          "exception": false,
          "start_time": "2020-12-29T14:09:06.928566",
          "status": "completed"
        },
        "tags": [],
        "id": "bW4RbtLMhCZS"
      }
    },
    {
      "cell_type": "code",
      "source": [
        "df.shape"
      ],
      "metadata": {
        "papermill": {
          "duration": 0.058801,
          "end_time": "2020-12-29T14:09:07.084516",
          "exception": false,
          "start_time": "2020-12-29T14:09:07.025715",
          "status": "completed"
        },
        "tags": [],
        "execution": {
          "iopub.status.busy": "2024-03-04T13:57:50.890313Z",
          "iopub.execute_input": "2024-03-04T13:57:50.890684Z",
          "iopub.status.idle": "2024-03-04T13:57:50.897448Z",
          "shell.execute_reply.started": "2024-03-04T13:57:50.890653Z",
          "shell.execute_reply": "2024-03-04T13:57:50.896637Z"
        },
        "trusted": true,
        "id": "M9kNVu3XhCZS"
      },
      "execution_count": null,
      "outputs": []
    },
    {
      "cell_type": "code",
      "source": [
        "sns.boxplot(df[\"age\"])\n",
        "plt.show()"
      ],
      "metadata": {
        "papermill": {
          "duration": 0.178695,
          "end_time": "2020-12-29T14:09:07.313367",
          "exception": false,
          "start_time": "2020-12-29T14:09:07.134672",
          "status": "completed"
        },
        "tags": [],
        "execution": {
          "iopub.status.busy": "2024-03-04T13:57:50.899016Z",
          "iopub.execute_input": "2024-03-04T13:57:50.899384Z",
          "iopub.status.idle": "2024-03-04T13:57:51.0798Z",
          "shell.execute_reply.started": "2024-03-04T13:57:50.899335Z",
          "shell.execute_reply": "2024-03-04T13:57:51.078312Z"
        },
        "trusted": true,
        "id": "zobyiKfnhCZS"
      },
      "execution_count": null,
      "outputs": []
    },
    {
      "cell_type": "markdown",
      "source": [
        "**From the above boxplot we observe that there are no outliers in the age column**"
      ],
      "metadata": {
        "papermill": {
          "duration": 0.05084,
          "end_time": "2020-12-29T14:09:07.41513",
          "exception": false,
          "start_time": "2020-12-29T14:09:07.36429",
          "status": "completed"
        },
        "tags": [],
        "id": "Qrg9CnwkhCZS"
      }
    },
    {
      "cell_type": "markdown",
      "source": [
        "# 📌Data Preprocessing"
      ],
      "metadata": {
        "id": "pTcNWCc6hCZS"
      }
    },
    {
      "cell_type": "code",
      "source": [
        "names = df.columns[4:40]\n",
        "scaled_feature = data.copy()\n",
        "names"
      ],
      "metadata": {
        "papermill": {
          "duration": 0.046584,
          "end_time": "2020-12-29T14:09:07.598511",
          "exception": false,
          "start_time": "2020-12-29T14:09:07.551927",
          "status": "completed"
        },
        "tags": [],
        "execution": {
          "iopub.status.busy": "2024-03-04T13:57:51.081456Z",
          "iopub.execute_input": "2024-03-04T13:57:51.081868Z",
          "iopub.status.idle": "2024-03-04T13:57:51.09408Z",
          "shell.execute_reply.started": "2024-03-04T13:57:51.081834Z",
          "shell.execute_reply": "2024-03-04T13:57:51.092927Z"
        },
        "trusted": true,
        "id": "ZoI6T8QLhCZS"
      },
      "execution_count": null,
      "outputs": []
    },
    {
      "cell_type": "code",
      "source": [
        "scaled_feature.head()"
      ],
      "metadata": {
        "papermill": {
          "duration": 0.08878,
          "end_time": "2020-12-29T14:09:07.741685",
          "exception": false,
          "start_time": "2020-12-29T14:09:07.652905",
          "status": "completed"
        },
        "tags": [],
        "execution": {
          "iopub.status.busy": "2024-03-04T13:57:51.09623Z",
          "iopub.execute_input": "2024-03-04T13:57:51.097229Z",
          "iopub.status.idle": "2024-03-04T13:57:51.127101Z",
          "shell.execute_reply.started": "2024-03-04T13:57:51.097182Z",
          "shell.execute_reply": "2024-03-04T13:57:51.125609Z"
        },
        "trusted": true,
        "id": "_GfBjMkEhCZS"
      },
      "execution_count": null,
      "outputs": []
    },
    {
      "cell_type": "code",
      "source": [
        "features = scaled_feature[names]"
      ],
      "metadata": {
        "papermill": {
          "duration": 0.091394,
          "end_time": "2020-12-29T14:09:07.912729",
          "exception": false,
          "start_time": "2020-12-29T14:09:07.821335",
          "status": "completed"
        },
        "tags": [],
        "execution": {
          "iopub.status.busy": "2024-03-04T13:57:51.129105Z",
          "iopub.execute_input": "2024-03-04T13:57:51.129552Z",
          "iopub.status.idle": "2024-03-04T13:57:51.14087Z",
          "shell.execute_reply.started": "2024-03-04T13:57:51.129511Z",
          "shell.execute_reply": "2024-03-04T13:57:51.139756Z"
        },
        "trusted": true,
        "id": "j3YM9A6shCZV"
      },
      "execution_count": null,
      "outputs": []
    },
    {
      "cell_type": "code",
      "source": [
        "features.head()"
      ],
      "metadata": {
        "papermill": {
          "duration": 0.08522,
          "end_time": "2020-12-29T14:09:08.049806",
          "exception": false,
          "start_time": "2020-12-29T14:09:07.964586",
          "status": "completed"
        },
        "tags": [],
        "execution": {
          "iopub.status.busy": "2024-03-04T13:57:51.142499Z",
          "iopub.execute_input": "2024-03-04T13:57:51.143445Z",
          "iopub.status.idle": "2024-03-04T13:57:51.174421Z",
          "shell.execute_reply.started": "2024-03-04T13:57:51.143397Z",
          "shell.execute_reply": "2024-03-04T13:57:51.173415Z"
        },
        "trusted": true,
        "id": "K1DkFMKFhCZW"
      },
      "execution_count": null,
      "outputs": []
    },
    {
      "cell_type": "code",
      "source": [
        "from sklearn.preprocessing import StandardScaler\n",
        "scaler = StandardScaler().fit(features.values)"
      ],
      "metadata": {
        "papermill": {
          "duration": 0.142122,
          "end_time": "2020-12-29T14:09:08.246767",
          "exception": false,
          "start_time": "2020-12-29T14:09:08.104645",
          "status": "completed"
        },
        "tags": [],
        "execution": {
          "iopub.status.busy": "2024-03-04T13:57:51.175493Z",
          "iopub.execute_input": "2024-03-04T13:57:51.175817Z",
          "iopub.status.idle": "2024-03-04T13:57:51.270016Z",
          "shell.execute_reply.started": "2024-03-04T13:57:51.175789Z",
          "shell.execute_reply": "2024-03-04T13:57:51.268861Z"
        },
        "trusted": true,
        "id": "UKZ69sOqhCZW"
      },
      "execution_count": null,
      "outputs": []
    },
    {
      "cell_type": "code",
      "source": [
        "features = scaler.transform(features.values)"
      ],
      "metadata": {
        "papermill": {
          "duration": 0.065507,
          "end_time": "2020-12-29T14:09:08.366535",
          "exception": false,
          "start_time": "2020-12-29T14:09:08.301028",
          "status": "completed"
        },
        "tags": [],
        "execution": {
          "iopub.status.busy": "2024-03-04T13:57:51.271491Z",
          "iopub.execute_input": "2024-03-04T13:57:51.271938Z",
          "iopub.status.idle": "2024-03-04T13:57:51.278676Z",
          "shell.execute_reply.started": "2024-03-04T13:57:51.271906Z",
          "shell.execute_reply": "2024-03-04T13:57:51.277359Z"
        },
        "trusted": true,
        "id": "XOjAuOYghCZW"
      },
      "execution_count": null,
      "outputs": []
    },
    {
      "cell_type": "code",
      "source": [
        "scaled_feature[names] = features\n",
        "scaled_feature.head()"
      ],
      "metadata": {
        "papermill": {
          "duration": 0.310822,
          "end_time": "2020-12-29T14:09:08.726773",
          "exception": false,
          "start_time": "2020-12-29T14:09:08.415951",
          "status": "completed"
        },
        "tags": [],
        "execution": {
          "iopub.status.busy": "2024-03-04T13:57:51.280347Z",
          "iopub.execute_input": "2024-03-04T13:57:51.280767Z",
          "iopub.status.idle": "2024-03-04T13:57:51.329532Z",
          "shell.execute_reply.started": "2024-03-04T13:57:51.280734Z",
          "shell.execute_reply": "2024-03-04T13:57:51.328405Z"
        },
        "trusted": true,
        "id": "rPH9KNpXhCZW"
      },
      "execution_count": null,
      "outputs": []
    },
    {
      "cell_type": "markdown",
      "source": [
        "# 📌Convert object variable to numeric"
      ],
      "metadata": {
        "papermill": {
          "duration": 0.054425,
          "end_time": "2020-12-29T14:09:08.837168",
          "exception": false,
          "start_time": "2020-12-29T14:09:08.782743",
          "status": "completed"
        },
        "tags": [],
        "id": "BW9Lri33hCZW"
      }
    },
    {
      "cell_type": "code",
      "source": [
        "def gender_to_numeric(x):\n",
        "    if x==\"M\":\n",
        "        return 1\n",
        "    if x==\"F\":\n",
        "        return 2\n",
        "    if x== 'not disclosed':\n",
        "        return 3"
      ],
      "metadata": {
        "papermill": {
          "duration": 0.062837,
          "end_time": "2020-12-29T14:09:08.955922",
          "exception": false,
          "start_time": "2020-12-29T14:09:08.893085",
          "status": "completed"
        },
        "tags": [],
        "execution": {
          "iopub.status.busy": "2024-03-04T13:57:51.336841Z",
          "iopub.execute_input": "2024-03-04T13:57:51.337455Z",
          "iopub.status.idle": "2024-03-04T13:57:51.343945Z",
          "shell.execute_reply.started": "2024-03-04T13:57:51.337419Z",
          "shell.execute_reply": "2024-03-04T13:57:51.342631Z"
        },
        "trusted": true,
        "id": "e2E69ruvhCZW"
      },
      "execution_count": null,
      "outputs": []
    },
    {
      "cell_type": "code",
      "source": [
        "scaled_feature['gender'] = scaled_feature['gender'].apply(gender_to_numeric)\n",
        "scaled_feature['gender'].head()"
      ],
      "metadata": {
        "papermill": {
          "duration": 0.082328,
          "end_time": "2020-12-29T14:09:09.093745",
          "exception": false,
          "start_time": "2020-12-29T14:09:09.011417",
          "status": "completed"
        },
        "tags": [],
        "execution": {
          "iopub.status.busy": "2024-03-04T13:57:51.345359Z",
          "iopub.execute_input": "2024-03-04T13:57:51.345758Z",
          "iopub.status.idle": "2024-03-04T13:57:51.37063Z",
          "shell.execute_reply.started": "2024-03-04T13:57:51.345725Z",
          "shell.execute_reply": "2024-03-04T13:57:51.369529Z"
        },
        "trusted": true,
        "id": "h7w4u2XfhCZW"
      },
      "execution_count": null,
      "outputs": []
    },
    {
      "cell_type": "markdown",
      "source": [
        "# 📌Checkig the transformed values"
      ],
      "metadata": {
        "papermill": {
          "duration": 0.054426,
          "end_time": "2020-12-29T14:09:09.202984",
          "exception": false,
          "start_time": "2020-12-29T14:09:09.148558",
          "status": "completed"
        },
        "tags": [],
        "id": "sjipAsCyhCZW"
      }
    },
    {
      "cell_type": "code",
      "source": [
        "scaled_feature.head()"
      ],
      "metadata": {
        "papermill": {
          "duration": 0.110569,
          "end_time": "2020-12-29T14:09:09.368551",
          "exception": false,
          "start_time": "2020-12-29T14:09:09.257982",
          "status": "completed"
        },
        "tags": [],
        "execution": {
          "iopub.status.busy": "2024-03-04T13:57:51.372379Z",
          "iopub.execute_input": "2024-03-04T13:57:51.372844Z",
          "iopub.status.idle": "2024-03-04T13:57:51.418815Z",
          "shell.execute_reply.started": "2024-03-04T13:57:51.37281Z",
          "shell.execute_reply": "2024-03-04T13:57:51.417626Z"
        },
        "trusted": true,
        "id": "Xd9lRvIghCZW"
      },
      "execution_count": null,
      "outputs": []
    },
    {
      "cell_type": "markdown",
      "source": [
        "# 📌Building the K-means model"
      ],
      "metadata": {
        "papermill": {
          "duration": 0.054944,
          "end_time": "2020-12-29T14:09:09.478665",
          "exception": false,
          "start_time": "2020-12-29T14:09:09.423721",
          "status": "completed"
        },
        "tags": [],
        "id": "EF7jUqJwhCZW"
      }
    },
    {
      "cell_type": "code",
      "source": [
        "from sklearn.cluster import KMeans\n",
        "kmeans = KMeans(n_clusters=5, random_state=0)"
      ],
      "metadata": {
        "papermill": {
          "duration": 0.447078,
          "end_time": "2020-12-29T14:09:09.981207",
          "exception": false,
          "start_time": "2020-12-29T14:09:09.534129",
          "status": "completed"
        },
        "tags": [],
        "execution": {
          "iopub.status.busy": "2024-03-04T13:57:51.420059Z",
          "iopub.execute_input": "2024-03-04T13:57:51.420735Z",
          "iopub.status.idle": "2024-03-04T13:57:51.839172Z",
          "shell.execute_reply.started": "2024-03-04T13:57:51.420702Z",
          "shell.execute_reply": "2024-03-04T13:57:51.838164Z"
        },
        "trusted": true,
        "id": "IzU7dwgjhCZW"
      },
      "execution_count": null,
      "outputs": []
    },
    {
      "cell_type": "code",
      "source": [
        "model = kmeans.fit(scaled_feature)"
      ],
      "metadata": {
        "papermill": {
          "duration": 0.667427,
          "end_time": "2020-12-29T14:09:10.708766",
          "exception": false,
          "start_time": "2020-12-29T14:09:10.041339",
          "status": "completed"
        },
        "tags": [],
        "execution": {
          "iopub.status.busy": "2024-03-04T13:57:51.8408Z",
          "iopub.execute_input": "2024-03-04T13:57:51.84183Z",
          "iopub.status.idle": "2024-03-04T13:57:53.427132Z",
          "shell.execute_reply.started": "2024-03-04T13:57:51.841793Z",
          "shell.execute_reply": "2024-03-04T13:57:53.426092Z"
        },
        "trusted": true,
        "id": "Ifanmj_GhCZW"
      },
      "execution_count": null,
      "outputs": []
    },
    {
      "cell_type": "markdown",
      "source": [
        "# 📌Elbow Method*"
      ],
      "metadata": {
        "papermill": {
          "duration": 0.097269,
          "end_time": "2020-12-29T14:09:10.904526",
          "exception": false,
          "start_time": "2020-12-29T14:09:10.807257",
          "status": "completed"
        },
        "tags": [],
        "id": "3gL0hARqhCZW"
      }
    },
    {
      "cell_type": "code",
      "source": [
        "# Creating a function with KMeans to plot \"The Elbow Curve\"\n",
        "\n",
        "wcss = []\n",
        "for i in range(1,20):\n",
        "    kmeans = KMeans(n_clusters=i,init='k-means++' ,max_iter=300,random_state=0)\n",
        "    kmeans.fit(scaled_feature)\n",
        "    wcss.append(kmeans.inertia_)\n",
        "\n",
        "plt.plot(range(1,20),wcss)\n",
        "plt.title('THe Elbow Curve')\n",
        "plt.xlabel('Number of Clusters')\n",
        "plt.ylabel(\"WCSS\") #WCSS stands for total within-cluster sum of sqaure\n",
        "plt.show()"
      ],
      "metadata": {
        "papermill": {
          "duration": 18.274594,
          "end_time": "2020-12-29T14:09:29.265575",
          "exception": false,
          "start_time": "2020-12-29T14:09:10.990981",
          "status": "completed"
        },
        "tags": [],
        "execution": {
          "iopub.status.busy": "2024-03-04T13:57:53.43212Z",
          "iopub.execute_input": "2024-03-04T13:57:53.434616Z",
          "iopub.status.idle": "2024-03-04T13:58:25.922119Z",
          "shell.execute_reply.started": "2024-03-04T13:57:53.434548Z",
          "shell.execute_reply": "2024-03-04T13:58:25.920738Z"
        },
        "trusted": true,
        "id": "ZU-HVYJjhCZW"
      },
      "execution_count": null,
      "outputs": []
    },
    {
      "cell_type": "markdown",
      "source": [
        "**The location of a bend (knee) in the plot is generally considered as an indicator of the appropriate number of clusters. Our Elbow point is around cluster size of 5.\n",
        "We will use k=5 to further interpret our clustering result.**"
      ],
      "metadata": {
        "papermill": {
          "duration": 0.109851,
          "end_time": "2020-12-29T14:09:29.482097",
          "exception": false,
          "start_time": "2020-12-29T14:09:29.372246",
          "status": "completed"
        },
        "tags": [],
        "id": "zTVW1mtrhCZW"
      }
    },
    {
      "cell_type": "markdown",
      "source": [
        "# 📌Fit K-Means clustering for k=5"
      ],
      "metadata": {
        "papermill": {
          "duration": 0.086735,
          "end_time": "2020-12-29T14:09:29.661391",
          "exception": false,
          "start_time": "2020-12-29T14:09:29.574656",
          "status": "completed"
        },
        "tags": [],
        "id": "UirtxGp8hCZW"
      }
    },
    {
      "cell_type": "code",
      "source": [
        "kmeans = KMeans(n_clusters=5)\n",
        "kmeans.fit(scaled_feature)"
      ],
      "metadata": {
        "papermill": {
          "duration": 0.879508,
          "end_time": "2020-12-29T14:09:30.62919",
          "exception": false,
          "start_time": "2020-12-29T14:09:29.749682",
          "status": "completed"
        },
        "tags": [],
        "execution": {
          "iopub.status.busy": "2024-03-04T13:58:25.923774Z",
          "iopub.execute_input": "2024-03-04T13:58:25.924237Z",
          "iopub.status.idle": "2024-03-04T13:58:27.541352Z",
          "shell.execute_reply.started": "2024-03-04T13:58:25.924203Z",
          "shell.execute_reply": "2024-03-04T13:58:27.54041Z"
        },
        "trusted": true,
        "id": "O96RztR8hCZW"
      },
      "execution_count": null,
      "outputs": []
    },
    {
      "cell_type": "code",
      "source": [
        "kmeans.labels_"
      ],
      "metadata": {
        "papermill": {
          "duration": 0.090133,
          "end_time": "2020-12-29T14:09:30.795125",
          "exception": false,
          "start_time": "2020-12-29T14:09:30.704992",
          "status": "completed"
        },
        "tags": [],
        "execution": {
          "iopub.status.busy": "2024-03-04T13:58:27.545881Z",
          "iopub.execute_input": "2024-03-04T13:58:27.548764Z",
          "iopub.status.idle": "2024-03-04T13:58:27.557493Z",
          "shell.execute_reply.started": "2024-03-04T13:58:27.548717Z",
          "shell.execute_reply": "2024-03-04T13:58:27.5564Z"
        },
        "trusted": true,
        "id": "qOoHjG8ohCZW"
      },
      "execution_count": null,
      "outputs": []
    },
    {
      "cell_type": "code",
      "source": [
        "len(kmeans.labels_)"
      ],
      "metadata": {
        "papermill": {
          "duration": 0.073041,
          "end_time": "2020-12-29T14:09:30.930886",
          "exception": false,
          "start_time": "2020-12-29T14:09:30.857845",
          "status": "completed"
        },
        "tags": [],
        "execution": {
          "iopub.status.busy": "2024-03-04T13:58:27.559883Z",
          "iopub.execute_input": "2024-03-04T13:58:27.560359Z",
          "iopub.status.idle": "2024-03-04T13:58:27.572317Z",
          "shell.execute_reply.started": "2024-03-04T13:58:27.560315Z",
          "shell.execute_reply": "2024-03-04T13:58:27.570958Z"
        },
        "trusted": true,
        "id": "LG5LbJD0hCZW"
      },
      "execution_count": null,
      "outputs": []
    },
    {
      "cell_type": "code",
      "source": [
        "data['cluster'] = kmeans.labels_"
      ],
      "metadata": {
        "papermill": {
          "duration": 0.069918,
          "end_time": "2020-12-29T14:09:31.061589",
          "exception": false,
          "start_time": "2020-12-29T14:09:30.991671",
          "status": "completed"
        },
        "tags": [],
        "execution": {
          "iopub.status.busy": "2024-03-04T13:58:27.573629Z",
          "iopub.execute_input": "2024-03-04T13:58:27.574676Z",
          "iopub.status.idle": "2024-03-04T13:58:27.582447Z",
          "shell.execute_reply.started": "2024-03-04T13:58:27.574642Z",
          "shell.execute_reply": "2024-03-04T13:58:27.58108Z"
        },
        "trusted": true,
        "id": "zzh1c-KKhCZX"
      },
      "execution_count": null,
      "outputs": []
    },
    {
      "cell_type": "markdown",
      "source": [
        "# 📌Interpreting Clustering Results"
      ],
      "metadata": {
        "papermill": {
          "duration": 0.061261,
          "end_time": "2020-12-29T14:09:31.349574",
          "exception": false,
          "start_time": "2020-12-29T14:09:31.288313",
          "status": "completed"
        },
        "tags": [],
        "id": "OiChpTNPhCZX"
      }
    },
    {
      "cell_type": "code",
      "source": [
        "plt.figure(figsize=(12,7))\n",
        "axis = sns.barplot(x=np.arange(0,5,1), y=data.groupby(['cluster']).count()['age'].values)\n",
        "x=axis.set_xlabel(\"cluster Number\")\n",
        "x=axis.set_ylabel(\"Number of students\")"
      ],
      "metadata": {
        "papermill": {
          "duration": 0.252109,
          "end_time": "2020-12-29T14:09:31.664189",
          "exception": false,
          "start_time": "2020-12-29T14:09:31.41208",
          "status": "completed"
        },
        "tags": [],
        "execution": {
          "iopub.status.busy": "2024-03-04T13:58:27.583729Z",
          "iopub.execute_input": "2024-03-04T13:58:27.584056Z",
          "iopub.status.idle": "2024-03-04T13:58:27.971911Z",
          "shell.execute_reply.started": "2024-03-04T13:58:27.584028Z",
          "shell.execute_reply": "2024-03-04T13:58:27.970621Z"
        },
        "trusted": true,
        "id": "dXLBRV0DhCZX"
      },
      "execution_count": null,
      "outputs": []
    },
    {
      "cell_type": "markdown",
      "source": [
        "**From the above plot we can see that cluster 0 is the largest and cluster 2 has fewest teen students.**"
      ],
      "metadata": {
        "papermill": {
          "duration": 0.062314,
          "end_time": "2020-12-29T14:09:31.790358",
          "exception": false,
          "start_time": "2020-12-29T14:09:31.728044",
          "status": "completed"
        },
        "tags": [],
        "id": "2roxOJBqhCZX"
      }
    },
    {
      "cell_type": "markdown",
      "source": [
        "# 📌Let' see the number of students belonging to each cluster"
      ],
      "metadata": {
        "papermill": {
          "duration": 0.061371,
          "end_time": "2020-12-29T14:09:31.914218",
          "exception": false,
          "start_time": "2020-12-29T14:09:31.852847",
          "status": "completed"
        },
        "tags": [],
        "id": "0p_2koUThCZX"
      }
    },
    {
      "cell_type": "code",
      "source": [
        "size_array = list(data.groupby(['cluster']).count()['age'].values)\n",
        "size_array"
      ],
      "metadata": {
        "papermill": {
          "duration": 0.112633,
          "end_time": "2020-12-29T14:09:32.08895",
          "exception": false,
          "start_time": "2020-12-29T14:09:31.976317",
          "status": "completed"
        },
        "tags": [],
        "execution": {
          "iopub.status.busy": "2024-03-04T13:58:27.973601Z",
          "iopub.execute_input": "2024-03-04T13:58:27.97396Z",
          "iopub.status.idle": "2024-03-04T13:58:27.989208Z",
          "shell.execute_reply.started": "2024-03-04T13:58:27.973929Z",
          "shell.execute_reply": "2024-03-04T13:58:27.987826Z"
        },
        "trusted": true,
        "id": "yMqvCrnHhCZX"
      },
      "execution_count": null,
      "outputs": []
    },
    {
      "cell_type": "markdown",
      "source": [
        "## 📌Average Age in each cluster"
      ],
      "metadata": {
        "id": "aDb-TzmVhCZX"
      }
    },
    {
      "cell_type": "code",
      "source": [
        "# Calculate the mean age for each cluster\n",
        "mean_age = data.groupby('cluster')['age'].mean()\n",
        "\n",
        "# Print the mean age for each cluster in the desired format\n",
        "for cluster, age in mean_age.items():\n",
        "    print(f\"Cluster {cluster}: {age:.2f} years\")\n"
      ],
      "metadata": {
        "papermill": {
          "duration": 0.063477,
          "end_time": "2020-12-29T14:09:32.67092",
          "exception": false,
          "start_time": "2020-12-29T14:09:32.607443",
          "status": "completed"
        },
        "tags": [],
        "execution": {
          "iopub.status.busy": "2024-03-04T13:58:27.99065Z",
          "iopub.execute_input": "2024-03-04T13:58:27.991516Z",
          "iopub.status.idle": "2024-03-04T13:58:28.000777Z",
          "shell.execute_reply.started": "2024-03-04T13:58:27.99148Z",
          "shell.execute_reply": "2024-03-04T13:58:27.999123Z"
        },
        "trusted": true,
        "id": "zMbEqjEphCZX"
      },
      "execution_count": null,
      "outputs": []
    },
    {
      "cell_type": "code",
      "source": [
        "data['gender'] = data['gender'].map({'F': 0, 'M': 1, 'not disclosed':3})\n"
      ],
      "metadata": {
        "execution": {
          "iopub.status.busy": "2024-03-04T13:58:28.002908Z",
          "iopub.execute_input": "2024-03-04T13:58:28.00342Z",
          "iopub.status.idle": "2024-03-04T13:58:28.013459Z",
          "shell.execute_reply.started": "2024-03-04T13:58:28.003375Z",
          "shell.execute_reply": "2024-03-04T13:58:28.011988Z"
        },
        "trusted": true,
        "id": "BhGDn2zRhCZX"
      },
      "execution_count": null,
      "outputs": []
    },
    {
      "cell_type": "code",
      "source": [
        "data['gender'].value_counts()\n"
      ],
      "metadata": {
        "execution": {
          "iopub.status.busy": "2024-03-04T13:58:28.015047Z",
          "iopub.execute_input": "2024-03-04T13:58:28.015381Z",
          "iopub.status.idle": "2024-03-04T13:58:28.028803Z",
          "shell.execute_reply.started": "2024-03-04T13:58:28.015352Z",
          "shell.execute_reply": "2024-03-04T13:58:28.027867Z"
        },
        "trusted": true,
        "id": "_vZnokzShCZX"
      },
      "execution_count": null,
      "outputs": []
    },
    {
      "cell_type": "markdown",
      "source": [
        "## 📌Percentage of females in each cluster"
      ],
      "metadata": {
        "id": "7nWvUOu0hCZX"
      }
    },
    {
      "cell_type": "code",
      "source": [
        "# Calculate the percentage of females in each cluster\n",
        "percentage_female = data[data['gender'] == 0].groupby('cluster').size() / data.groupby('cluster').size() * 100\n",
        "\n",
        "# Print the percentage of females in each cluster in a readable format\n",
        "for cluster, percentage in percentage_female.items():\n",
        "    print(f\"Cluster {cluster}: {percentage:.2f}% females\")\n"
      ],
      "metadata": {
        "execution": {
          "iopub.status.busy": "2024-03-04T13:58:28.030143Z",
          "iopub.execute_input": "2024-03-04T13:58:28.030476Z",
          "iopub.status.idle": "2024-03-04T13:58:28.044582Z",
          "shell.execute_reply.started": "2024-03-04T13:58:28.030447Z",
          "shell.execute_reply": "2024-03-04T13:58:28.043234Z"
        },
        "trusted": true,
        "id": "PCgmahxehCZX"
      },
      "execution_count": null,
      "outputs": []
    },
    {
      "cell_type": "markdown",
      "source": [
        "## 📌Average number of friends in each cluster"
      ],
      "metadata": {
        "id": "KW_8cw8mhCZX"
      }
    },
    {
      "cell_type": "code",
      "source": [
        "# Calculate the average number of friends in each cluster\n",
        "mean_friends = data.groupby('cluster')['NumberOffriends'].mean()\n",
        "\n",
        "# Print the average number of friends in each cluster in a readable format\n",
        "for cluster, avg_friends in mean_friends.items():\n",
        "    print(f\"Cluster {cluster}: Average number of friends = {avg_friends:.2f}\")\n"
      ],
      "metadata": {
        "execution": {
          "iopub.status.busy": "2024-03-04T13:58:28.046338Z",
          "iopub.execute_input": "2024-03-04T13:58:28.046729Z",
          "iopub.status.idle": "2024-03-04T13:58:28.0569Z",
          "shell.execute_reply.started": "2024-03-04T13:58:28.046697Z",
          "shell.execute_reply": "2024-03-04T13:58:28.055538Z"
        },
        "trusted": true,
        "id": "NZknWCZshCZX"
      },
      "execution_count": null,
      "outputs": []
    },
    {
      "cell_type": "markdown",
      "source": [
        "## 📌Cluster Analysis"
      ],
      "metadata": {
        "id": "dcVZ2KhMhCZX"
      }
    },
    {
      "cell_type": "code",
      "source": [
        "cluster_analysis = pd.DataFrame({\n",
        "    'Mean Age': mean_age,\n",
        "    'Percentage Female': percentage_female,\n",
        "    'Mean Number of Friends': mean_friends,\n",
        "    'Number of Students': size_array\n",
        "})\n",
        "\n",
        "print(\"Cluster Analysis:\")\n",
        "for cluster, row in cluster_analysis.iterrows():\n",
        "    print(f\"Cluster {cluster}:\")\n",
        "    print(f\"  Mean Age: {row['Mean Age']:.2f} years\")\n",
        "    print(f\"  Percentage Female: {row['Percentage Female']:.2f}%\")\n",
        "    print(f\"  Mean Number of Friends: {row['Mean Number of Friends']:.2f}\")\n",
        "    print(f\"  Number of Students: {row['Number of Students']}\")\n",
        "    print()\n"
      ],
      "metadata": {
        "execution": {
          "iopub.status.busy": "2024-03-04T13:58:28.05962Z",
          "iopub.execute_input": "2024-03-04T13:58:28.060449Z",
          "iopub.status.idle": "2024-03-04T13:58:28.072732Z",
          "shell.execute_reply.started": "2024-03-04T13:58:28.060403Z",
          "shell.execute_reply": "2024-03-04T13:58:28.071463Z"
        },
        "trusted": true,
        "id": "0zS7XeCghCZX"
      },
      "execution_count": null,
      "outputs": []
    },
    {
      "cell_type": "code",
      "source": [
        "\n",
        "clusters = cluster_analysis.index\n",
        "\n",
        "fig, axs = plt.subplots(2, 2, figsize=(12, 10))\n",
        "\n",
        "# Mean Age\n",
        "axs[0, 0].bar(clusters, cluster_analysis['Mean Age'], color='skyblue')\n",
        "axs[0, 0].set_title('Mean Age by Cluster')\n",
        "axs[0, 0].set_ylabel('Mean Age (years)')\n",
        "\n",
        "# Percentage Female\n",
        "axs[0, 1].bar(clusters, cluster_analysis['Percentage Female'], color='lightgreen')\n",
        "axs[0, 1].set_title('Percentage Female by Cluster')\n",
        "axs[0, 1].set_ylabel('Percentage Female')\n",
        "\n",
        "# Mean Number of Friends\n",
        "axs[1, 0].bar(clusters, cluster_analysis['Mean Number of Friends'], color='salmon')\n",
        "axs[1, 0].set_title('Mean Number of Friends by Cluster')\n",
        "axs[1, 0].set_ylabel('Mean Number of Friends')\n",
        "\n",
        "# Number of Students\n",
        "axs[1, 1].bar(clusters, cluster_analysis['Number of Students'], color='gold')\n",
        "axs[1, 1].set_title('Number of Students by Cluster')\n",
        "axs[1, 1].set_ylabel('Number of Students')\n",
        "\n",
        "# Rotate x-axis labels for better readability\n",
        "for ax in axs.flat:\n",
        "    ax.set_xticklabels(ax.get_xticklabels(), rotation=45, ha='right')\n",
        "\n",
        "plt.tight_layout()\n",
        "plt.show()\n"
      ],
      "metadata": {
        "execution": {
          "iopub.status.busy": "2024-03-04T13:58:28.07418Z",
          "iopub.execute_input": "2024-03-04T13:58:28.074496Z",
          "iopub.status.idle": "2024-03-04T13:58:29.66019Z",
          "shell.execute_reply.started": "2024-03-04T13:58:28.074468Z",
          "shell.execute_reply": "2024-03-04T13:58:29.658674Z"
        },
        "trusted": true,
        "id": "uUFEmRcbhCZX"
      },
      "execution_count": null,
      "outputs": []
    },
    {
      "cell_type": "markdown",
      "source": [
        "## 📌Describe clusters characteristics"
      ],
      "metadata": {
        "id": "5OZCdxtZhCZX"
      }
    },
    {
      "cell_type": "code",
      "source": [
        "def describe_clusters(df):\n",
        "\n",
        "    # Describe cluster characteristics\n",
        "    cluster_analysis = df.groupby('cluster').mean().T\n",
        "    print(\"Cluster Characteristics:\")\n",
        "    cluster_df = pd.DataFrame(cluster_analysis)\n",
        "\n",
        "    return cluster_df\n",
        "\n",
        "describe_clusters(data)"
      ],
      "metadata": {
        "execution": {
          "iopub.status.busy": "2024-03-04T13:58:29.661686Z",
          "iopub.execute_input": "2024-03-04T13:58:29.662045Z",
          "iopub.status.idle": "2024-03-04T13:58:29.697127Z",
          "shell.execute_reply.started": "2024-03-04T13:58:29.662013Z",
          "shell.execute_reply": "2024-03-04T13:58:29.695673Z"
        },
        "trusted": true,
        "id": "0JFX6kM8hCZX"
      },
      "execution_count": null,
      "outputs": []
    },
    {
      "cell_type": "markdown",
      "source": [
        " # 📌Recommendation for marketing department\n",
        "\n",
        "#### 👉Targeting Female-Centric Products:\n",
        "\n",
        "Clusters 1, 2, and 3 have a higher percentage of females compared to the overall population. Therefore, products or advertisements that specifically target teenage girls may perform well within these clusters.\n",
        "Products related to fashion, beauty, socializing, or lifestyle may resonate more with these clusters.\n",
        "\n",
        "\n",
        "#### 👉Understanding Male-Centric Interests:\n",
        "\n",
        "Clusters 0 and 4 have a higher percentage of males. Understanding the interests and preferences of teenage boys within these clusters can help develop marketing campaigns tailored to their needs.\n",
        "Products related to sports, technology, gaming, or adventure may appeal more to these clusters.\n",
        "\n",
        "#### 👉Fashion and Retail Promotions:\n",
        "\n",
        "Clusters 2 and 3 show a higher interest in shopping, suggesting that advertising campaigns or promotions related to shopping might be more effective for these clusters.\n",
        "\n",
        "\n",
        "#### 👉Sports and Lifestyle Brand Partnerships:\n",
        "\n",
        "Collaborate with sports brands or organize sports-related events and activities to appeal to clusters showing a strong interest in sports (e.g., Clusters 3 and 4).\n"
      ],
      "metadata": {
        "id": "a3H3ga7DhCZX"
      }
    },
    {
      "cell_type": "markdown",
      "source": [
        "<center><a href=\"https://www.buymeacoffee.com/zabih\"><img src=\"https://www.codehim.com/wp-content/uploads/2022/09/bmc-button-640x180.png.webp\" alt=\"Buy Me A Coffee\" style=\"height: 80px; width: 300px; box-shadow: 0px 3px 2px 0px rgba(190, 190, 190, 0.5) !important;-webkit-box-shadow: 0px 3px 2px 0px rgba(190, 190, 190, 0.5) !important;\" ></a></center>"
      ],
      "metadata": {
        "id": "eagZqPEchCZY"
      }
    }
  ]
}